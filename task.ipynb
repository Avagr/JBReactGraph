{
 "cells": [
  {
   "cell_type": "markdown",
   "metadata": {},
   "source": [
    "# OSS Collaboration Graph Platform\n",
    "### by Agroskin Alexander\n",
    "\n",
    "Uncomment the following lines to install required libraries:"
   ]
  },
  {
   "cell_type": "code",
   "execution_count": 1,
   "metadata": {},
   "outputs": [],
   "source": [
    "# !pip install pyvis pandas\n",
    "# !pip install request  # necessary only if you are planning on updating the files "
   ]
  },
  {
   "cell_type": "markdown",
   "metadata": {},
   "source": [
    "I've already saved necessary data to the `authors.json` file. You can uncomment the following cell if you want to request updated contributor data using GitHub API. An OAuth token is advised to bypass the rate limiter, although the function will work without it"
   ]
  },
  {
   "cell_type": "code",
   "execution_count": 2,
   "metadata": {},
   "outputs": [],
   "source": [
    "# from preparation import prepare_data\n",
    "\n",
    "# prepare_data(\"your_token_here\")"
   ]
  },
  {
   "cell_type": "markdown",
   "metadata": {},
   "source": [
    "Next we will read the data from `authors.json` and create a `pandas` `DataFrame` from it:"
   ]
  },
  {
   "cell_type": "code",
   "execution_count": 3,
   "metadata": {},
   "outputs": [
    {
     "data": {
      "text/html": [
       "<div>\n",
       "<style scoped>\n",
       "    .dataframe tbody tr th:only-of-type {\n",
       "        vertical-align: middle;\n",
       "    }\n",
       "\n",
       "    .dataframe tbody tr th {\n",
       "        vertical-align: top;\n",
       "    }\n",
       "\n",
       "    .dataframe thead th {\n",
       "        text-align: right;\n",
       "    }\n",
       "</style>\n",
       "<table border=\"1\" class=\"dataframe\">\n",
       "  <thead>\n",
       "    <tr style=\"text-align: right;\">\n",
       "      <th></th>\n",
       "      <th>total</th>\n",
       "      <th>files</th>\n",
       "      <th>maxdate</th>\n",
       "      <th>mindate</th>\n",
       "      <th>total_time</th>\n",
       "    </tr>\n",
       "  </thead>\n",
       "  <tbody>\n",
       "    <tr>\n",
       "      <th>Dan Abramov</th>\n",
       "      <td>1508</td>\n",
       "      <td>{scripts/tasks/flow-ci.js, packages/react-dom/...</td>\n",
       "      <td>1617117597</td>\n",
       "      <td>1401056969</td>\n",
       "      <td>216060628</td>\n",
       "    </tr>\n",
       "    <tr>\n",
       "      <th>Brian Vaughn</th>\n",
       "      <td>1328</td>\n",
       "      <td>{packages/react-devtools-extensions/shared/ico...</td>\n",
       "      <td>1618009933</td>\n",
       "      <td>1481141166</td>\n",
       "      <td>136868767</td>\n",
       "    </tr>\n",
       "    <tr>\n",
       "      <th>Sophie Alpert</th>\n",
       "      <td>875</td>\n",
       "      <td>{src/renderers/shared/stack/reconciler/instant...</td>\n",
       "      <td>1593515345</td>\n",
       "      <td>1504735814</td>\n",
       "      <td>88779531</td>\n",
       "    </tr>\n",
       "    <tr>\n",
       "      <th>Andrew Clark</th>\n",
       "      <td>857</td>\n",
       "      <td>{scripts/tasks/flow-ci.js, scripts/release/REA...</td>\n",
       "      <td>1617932735</td>\n",
       "      <td>1446750778</td>\n",
       "      <td>171181957</td>\n",
       "    </tr>\n",
       "    <tr>\n",
       "      <th>Paul O’Shannessy</th>\n",
       "      <td>821</td>\n",
       "      <td>{React/core/__tests__/ReactIdentity-test.js, R...</td>\n",
       "      <td>1567119887</td>\n",
       "      <td>1369856771</td>\n",
       "      <td>197263116</td>\n",
       "    </tr>\n",
       "  </tbody>\n",
       "</table>\n",
       "</div>"
      ],
      "text/plain": [
       "                  total                                              files  \\\n",
       "Dan Abramov        1508  {scripts/tasks/flow-ci.js, packages/react-dom/...   \n",
       "Brian Vaughn       1328  {packages/react-devtools-extensions/shared/ico...   \n",
       "Sophie Alpert       875  {src/renderers/shared/stack/reconciler/instant...   \n",
       "Andrew Clark        857  {scripts/tasks/flow-ci.js, scripts/release/REA...   \n",
       "Paul O’Shannessy    821  {React/core/__tests__/ReactIdentity-test.js, R...   \n",
       "\n",
       "                     maxdate     mindate  total_time  \n",
       "Dan Abramov       1617117597  1401056969   216060628  \n",
       "Brian Vaughn      1618009933  1481141166   136868767  \n",
       "Sophie Alpert     1593515345  1504735814    88779531  \n",
       "Andrew Clark      1617932735  1446750778   171181957  \n",
       "Paul O’Shannessy  1567119887  1369856771   197263116  "
      ]
     },
     "execution_count": 3,
     "metadata": {},
     "output_type": "execute_result"
    }
   ],
   "source": [
    "import pandas as pd\n",
    "import json\n",
    "\n",
    "with open('authors.json', 'r') as au:\n",
    "    authors = json.load(au)\n",
    "data = pd.DataFrame.from_dict(authors, orient='index')\n",
    "data['files'] = data['files'].map(set)\n",
    "data['total_time'] = data['maxdate'] - data['mindate']\n",
    "data.head()"
   ]
  },
  {
   "cell_type": "markdown",
   "metadata": {},
   "source": [
    "Resulting `DataFrame` has the following columns: \n",
    "* `total`: total number of commits to the project\n",
    "* `files`: set of files that the user has changed\n",
    "* `maxdate`: date of the last commit of this user (in UNIX time format) \n",
    "* `mindate`: date of the first commit of this user (in UNIX time format) \n",
    "* `total_time`: total time (in UNIX epoch seconds) between the first and the last commit of this user\n",
    "\n",
    "\n",
    "Now we will build a graph network using our `DataFrame`. We connect two contributors with an edge if they have a more than average overlap in contributions. The length of each edge is inversely proportional to the number of common files multiplied by the length of the time period two contributors have spent on the project together (I consider \"time spent on project\" as the time period between the first and the last commit).\n",
    "\n",
    "The resulting equation for the length between nodes (contributors) $a$ and $b$ is as follows:\n",
    "$$ len(a, b)=\\frac{1}{(inter_{a,b} - mean_{inter})\\cdot(1 + (time_{a,b} - shift_{time})\\cdot 10^{-8})}$$\n",
    "\n",
    "Where:\n",
    "* $inter_{a,b}$ is the number of files both contributos have forked on\n",
    "* $mean_{inter}$ is the average number of overlapping files\n",
    "* $time_{a,b}$ is the overlap of time periods of $a$ and $b$ (in UNIX epoch seconds)\n",
    "* $shift_{time}$ is the average overlap time shift, which I've decided to set to two years (again in UNIX seconds)\n",
    "\n",
    "Additionally, the size of each node is proportional to the number of contributions and totat time spent on the project:\n",
    "$$size(a)=total_a * total_time_a * 10^{-8}$$\n",
    "\n",
    "In the end, all formulae and metrics are rather arbitrary, but the resulting picture displays the relationship between contributors relatively clearly.\n",
    "\n",
    "For visualization I've chosen the `pyvis` library, as it allows interactive graph viewer embedding. If your Jupyter viewer does not support embedding of `.html` files, you can turn off notebook mode (or just open `react_graph.html`) and the network will be shown in your browser."
   ]
  },
  {
   "cell_type": "code",
   "execution_count": 4,
   "metadata": {},
   "outputs": [
    {
     "data": {
      "text/html": [
       "\n",
       "        <iframe\n",
       "            width=\"1000\"\n",
       "            height=\"800\"\n",
       "            src=\"react_graph.html\"\n",
       "            frameborder=\"0\"\n",
       "            allowfullscreen\n",
       "        ></iframe>\n",
       "        "
      ],
      "text/plain": [
       "<IPython.lib.display.IFrame at 0x7f4b20a5dac0>"
      ]
     },
     "execution_count": 4,
     "metadata": {},
     "output_type": "execute_result"
    }
   ],
   "source": [
    "import math\n",
    "from itertools import combinations\n",
    "from pyvis.network import Network\n",
    "\n",
    "\n",
    "# Calculates the length function\n",
    "def get_length(first, second) -> float:\n",
    "    # Setting mean file and time intersections\n",
    "    two_years = 31536000 * 2  # I'm using two years as an average time spent working together\n",
    "    mean_intersection = 15  # calculated based on the average number of file intersections\n",
    "    inter_len = len(first.files & second.files) - mean_intersection\n",
    "    if inter_len <= 0:\n",
    "        return 0\n",
    "    fbeg, fend, sbeg, send = first.mindate, first.maxdate, second.mindate, second.maxdate\n",
    "    if fbeg > sbeg:  #  Ensuring that fbeg <= sbeg\n",
    "        fbeg, fend, sbeg, send = sbeg, send, fbeg, fend\n",
    "    if fend <= sbeg:\n",
    "        together = 0\n",
    "    elif fbeg <= sbeg <= send <= fend:\n",
    "        together = send - sbeg\n",
    "    elif fbeg <= sbeg <= fend <= send:\n",
    "        together = fend - sbeg\n",
    "    return 1 / (inter_len * (1 + (together - two_years) / 100000000))\n",
    "\n",
    "\n",
    "# Set notebook=False if you want to open the graph viewer externally\n",
    "net = Network(notebook=True, width=1000, height=800, font_color=True)\n",
    "net.add_nodes(data.index, value=[i for i in data['total'] * data['total_time'] / 100000000],\n",
    "              color=['#1520a6' for i in range(50)])\n",
    "for first, second in combinations(data.index, 2):\n",
    "    length = get_length(data.loc[first], data.loc[second])\n",
    "    if length > 0:  # Adding an edge only if the \n",
    "        net.add_edge(first, second, length=length, color='orange')\n",
    "net.barnes_hut(gravity=-30000, central_gravity=1.5, spring_strength=0.002)\n",
    "net.show('react_graph.html')"
   ]
  }
 ],
 "metadata": {
  "kernelspec": {
   "display_name": "datasci",
   "language": "python",
   "name": "datasci"
  },
  "language_info": {
   "name": "python",
   "version": ""
  }
 },
 "nbformat": 4,
 "nbformat_minor": 4
}